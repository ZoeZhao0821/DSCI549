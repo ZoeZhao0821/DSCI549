{
 "cells": [
  {
   "cell_type": "markdown",
   "metadata": {},
   "source": [
    "# Processing Datasets Independently\n",
    "This notebook will enable you to understand how to analyze data in separate files independently."
   ]
  },
  {
   "cell_type": "code",
   "execution_count": null,
   "metadata": {},
   "outputs": [],
   "source": [
    "import time\n",
    "\n",
    "def loadText():\n",
    "    textList=[]\n",
    "    condition=True\n",
    "    while condition:\n",
    "        text=input('Please Enter the Text You Want to Encipher: ')\n",
    "        if text=='stop':\n",
    "            condition=False\n",
    "        else:\n",
    "            textList.append(text)\n",
    "    return textList\n",
    "\n",
    "def cipher(text,key):\n",
    "    import string\n",
    "    stri=\"\"\n",
    "    for ch in text:\n",
    "        if ch not in string.ascii_letters:\n",
    "            stri+=ch\n",
    "        else:\n",
    "            output = chr(ord(ch) + key)\n",
    "            outputNum = ord(output)\n",
    "            if 64 < outputNum < 91 or 96 <outputNum < 123:\n",
    "                        stri+=output\n",
    "            else:\n",
    "                x=chr(outputNum-26)\n",
    "                stri+=x\n",
    "    return stri\n",
    "\n",
    "def CCIndependent(files,key):\n",
    "    start = time.process_time()\n",
    "    encodedList=[]\n",
    "    for text in files:\n",
    "        encodedList.append(cipher(text,key))\n",
    "    stop=time.process_time()\n",
    "    print(\"Runtime: \",(stop-start),\"seconds\")\n",
    "    return encodedList\n",
    "    \n",
    "def loadDocuments():\n",
    "    textList=[]\n",
    "    condition= True\n",
    "    while condition:\n",
    "        filename=input('Please Enter the Text You Want to Encipher: ')\n",
    "        if filename=='stop':\n",
    "            condition=False\n",
    "        else:\n",
    "            with open(filename) as f:\n",
    "                text=f.read()\n",
    "                textList.append(text)\n",
    "    return textList"
   ]
  },
  {
   "cell_type": "markdown",
   "metadata": {},
   "source": [
    "## Encrpyt multiple documents\n",
    "The cell below encrpyts more than one documents and it will encrypt them one by one. Input \"stop\" when you have choosen all the documents that you want to encrypt. Once the cell below is run, it will output the runtime of the function.\n",
    "\n",
    "Please use all of the three text files provided. They are _Pride and Prejudice_, _Jane Eyre_ and _Crime and Punishment_.\n",
    "\n",
    "Repeat three times (copy and paste the two cells below three times) with a shift key of 1, 4, and 10."
   ]
  },
  {
   "cell_type": "code",
   "execution_count": null,
   "metadata": {},
   "outputs": [],
   "source": [
    "textList=loadDocuments()\n",
    "key=int(input(\"Please Enter Shift Key: \"))\n",
    "encodedList=CCIndependent(textList,key)"
   ]
  },
  {
   "cell_type": "markdown",
   "metadata": {},
   "source": [
    "** Print the encrypted document**"
   ]
  },
  {
   "cell_type": "code",
   "execution_count": null,
   "metadata": {},
   "outputs": [],
   "source": [
    "for i in encodedList:\n",
    "    print(i)"
   ]
  },
  {
   "cell_type": "markdown",
   "metadata": {
    "collapsed": true
   },
   "source": [
    "**Question**: How does the run time change with different values of the shift key?"
   ]
  },
  {
   "cell_type": "code",
   "execution_count": null,
   "metadata": {},
   "outputs": [],
   "source": []
  }
 ],
 "metadata": {
  "anaconda-cloud": {},
  "kernelspec": {
   "display_name": "Python 3",
   "language": "python",
   "name": "python3"
  },
  "language_info": {
   "codemirror_mode": {
    "name": "ipython",
    "version": 3
   },
   "file_extension": ".py",
   "mimetype": "text/x-python",
   "name": "python",
   "nbconvert_exporter": "python",
   "pygments_lexer": "ipython3",
   "version": "3.7.3"
  }
 },
 "nbformat": 4,
 "nbformat_minor": 2
}
