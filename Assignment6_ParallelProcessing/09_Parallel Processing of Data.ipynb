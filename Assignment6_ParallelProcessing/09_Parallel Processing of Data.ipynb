{
 "cells": [
  {
   "cell_type": "markdown",
   "metadata": {},
   "source": [
    "# Parallel Processing of Data\n",
    "This notebook will enable you to understand how to analyze data in parallel using the map function of MapReduce. \n",
    "\n",
    "Please note that the map function used in this notebook is not a real map. A real MapReduce framework like **_Hadoop_** or **_Spark_** requires some additional configuration and normally will not be applied to data that is so small. Therefore, you might find that the runtime between different parallel processing fucntions does not vary too much."
   ]
  },
  {
   "cell_type": "code",
   "execution_count": null,
   "metadata": {},
   "outputs": [],
   "source": [
    "import time\n",
    "import math\n",
    "\n",
    "def breakDoc(text,nToBreakInto):\n",
    "    textList=[]\n",
    "    fLength = len(text)\n",
    "    nLinesInEach = int(math.ceil(float(fLength)/nToBreakInto))\n",
    "    for i in range(nToBreakInto):\n",
    "        startIndex=i*nLinesInEach\n",
    "        endIndex=(i+1)*nLinesInEach\n",
    "        if endIndex<=fLength-1:\n",
    "            textList.append(text[startIndex:endIndex])\n",
    "        else:\n",
    "            textList.append(text[startIndex:])\n",
    "    return textList\n",
    "\n",
    "def loadDocuments():\n",
    "    filename=input('Please Enter the Text You Want to Encipher: ')\n",
    "    with open(filename) as f:\n",
    "        text=f.read()\n",
    "    return text\n",
    "\n",
    "def cipher(text,key):\n",
    "    import string\n",
    "    stri=\"\"\n",
    "    for ch in text:\n",
    "        if ch not in string.ascii_letters:\n",
    "            stri+=ch\n",
    "        else:\n",
    "            output = chr(ord(ch) + key)\n",
    "            outputNum = ord(output)\n",
    "            if 64 < outputNum < 91 or 96 <outputNum < 123:\n",
    "                        stri+=output\n",
    "            else:\n",
    "                x=chr(outputNum-26)\n",
    "                stri+=x\n",
    "    return stri\n",
    "\n",
    "def CCMap(text,key,nToBreakInto):\n",
    "    #starttime = datetime.datetime.now()\n",
    "    start = time.process_time()\n",
    "    textList=breakDoc(text,nToBreakInto)\n",
    "    encodedList=list(map(cipher,textList,[key]*len(textList)))\n",
    "    #for i in encodedList:\n",
    "    #    print(i)\n",
    "    stop = time.process_time()\n",
    "    print(\"Runtime: \",(stop-start),\"seconds\")\n",
    "    return encodedList"
   ]
  },
  {
   "cell_type": "markdown",
   "metadata": {},
   "source": [
    "## Encrpyt one document with Map\n",
    "The cell below splits a document into several pieces and encrypts each piece in turn. It uses the first two phases of the divide-and-conquer strategy, that is, first splitting the data and then processing the data. Once the function is done, it will output its runtime.\n",
    "\n",
    "Please use the text file called \"merge.txt\". It includes three novels, _Pride and Prejudice_, _Jane Eyre_ and _Crime and Punishment_."
   ]
  },
  {
   "cell_type": "code",
   "execution_count": null,
   "metadata": {},
   "outputs": [],
   "source": [
    "text=loadDocuments()\n",
    "nToBreakInto=int(input(\"Please Enter the Number of Pieces: \"))\n",
    "key=int(input(\"Please Enter Shift Key: \"))\n",
    "encodedList=CCMap(text,key,nToBreakInto)"
   ]
  },
  {
   "cell_type": "markdown",
   "metadata": {},
   "source": [
    "** Print the encrypted document**"
   ]
  },
  {
   "cell_type": "code",
   "execution_count": null,
   "metadata": {},
   "outputs": [],
   "source": [
    "for i in encodedList:\n",
    "    print(i)"
   ]
  },
  {
   "cell_type": "markdown",
   "metadata": {},
   "source": [
    "Copy and paste the two cells above and vary the value for the shift key and the number of pieces in which to divide the dataset. \n",
    "\n",
    "**Question**: How does the run time vary with different values of the shift key? You need to keep the number of pieces constant to answer this question.\n",
    "\n",
    "**Question**: How does the run time vary with different values for the number of pieces? You need to keep the value for the shift key to answer this question.\n",
    "\n",
    "**Question**: What is the speedup time for a shift key of 5 and the use of 3 pieces? Show the equation you are using to calculate the speedup time.\n",
    "\n",
    "**Note** You may reuse the copied and paste cells to rerun the experiment (only copy and paste once). "
   ]
  },
  {
   "cell_type": "code",
   "execution_count": null,
   "metadata": {},
   "outputs": [],
   "source": []
  }
 ],
 "metadata": {
  "anaconda-cloud": {},
  "kernelspec": {
   "display_name": "Python 3",
   "language": "python",
   "name": "python3"
  },
  "language_info": {
   "codemirror_mode": {
    "name": "ipython",
    "version": 3
   },
   "file_extension": ".py",
   "mimetype": "text/x-python",
   "name": "python",
   "nbconvert_exporter": "python",
   "pygments_lexer": "ipython3",
   "version": "3.7.3"
  }
 },
 "nbformat": 4,
 "nbformat_minor": 2
}
