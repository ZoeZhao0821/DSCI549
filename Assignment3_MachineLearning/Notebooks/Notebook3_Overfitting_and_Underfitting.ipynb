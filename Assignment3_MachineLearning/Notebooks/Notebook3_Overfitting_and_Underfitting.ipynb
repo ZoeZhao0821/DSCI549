{
  "nbformat": 4,
  "nbformat_minor": 0,
  "metadata": {
    "colab": {
      "name": "Notebook3_Overfitting_and_Underfitting.ipynb",
      "provenance": []
    },
    "kernelspec": {
      "name": "python3",
      "display_name": "Python 3"
    }
  },
  "cells": [
    {
      "cell_type": "markdown",
      "metadata": {
        "id": "Y1KaKISPEtXA",
        "colab_type": "text"
      },
      "source": [
        "# A Notebook to Understand Overfitting and Underfitting"
      ]
    },
    {
      "cell_type": "markdown",
      "metadata": {
        "id": "qCsaTaeaEwwB",
        "colab_type": "text"
      },
      "source": [
        "Here, we have generated data of two types: The perfect model (cos function) and a model with noise added to the cos function. "
      ]
    },
    {
      "cell_type": "code",
      "metadata": {
        "id": "SUXgF3BoEtvj",
        "colab_type": "code",
        "colab": {}
      },
      "source": [
        "import numpy as np\n",
        "from sklearn.pipeline import Pipeline\n",
        "from sklearn.model_selection import cross_val_score\n",
        "from sklearn import preprocessing\n",
        "def true_fun(X):\n",
        "    return np.cos(1.5 * np.pi * X)\n",
        "\n",
        "n_samples = 50\n",
        "X = np.sort(np.random.rand(n_samples))\n",
        "y = true_fun(X) + np.random.randn(n_samples) * 0.2\n"
      ],
      "execution_count": null,
      "outputs": []
    },
    {
      "cell_type": "markdown",
      "metadata": {
        "id": "OsVcTKilEz0s",
        "colab_type": "text"
      },
      "source": [
        "The aim is to try to fit a polynomial function to the data. "
      ]
    },
    {
      "cell_type": "code",
      "metadata": {
        "id": "0Yji58icE1Vd",
        "colab_type": "code",
        "colab": {}
      },
      "source": [
        "import matplotlib.pyplot as plt\n",
        "from sklearn.preprocessing import PolynomialFeatures\n",
        "from sklearn.linear_model import LinearRegression\n",
        "\n",
        "np.random.seed(0)\n",
        "\n",
        "degrees = int(input(\"Please Enter The Degree of Polynomial Between 1-20:\"))\n",
        "\n",
        "polynomial_features = PolynomialFeatures(degree=degrees,\n",
        "                                          include_bias=False)\n",
        "linear_regression = LinearRegression()\n",
        "pipeline = Pipeline([(\"polynomial_features\", polynomial_features),\n",
        "                      (\"linear_regression\", linear_regression)])\n",
        "pipeline.fit(X[:, np.newaxis], y)\n",
        "\n"
      ],
      "execution_count": null,
      "outputs": []
    },
    {
      "cell_type": "markdown",
      "metadata": {
        "id": "g2SoeU2VE4rs",
        "colab_type": "text"
      },
      "source": [
        "Evaluating the model using cross validation:"
      ]
    },
    {
      "cell_type": "code",
      "metadata": {
        "id": "dlpKvf-eE5BH",
        "colab_type": "code",
        "colab": {}
      },
      "source": [
        "plt.figure(figsize=(15, 6))\n",
        "\n",
        "scores = cross_val_score(pipeline, X[:, np.newaxis], y,\n",
        "                          scoring=\"neg_mean_squared_error\", cv=10)\n",
        "\n",
        "X_test = np.linspace(0, 1, 100)\n",
        "plt.plot(X_test, pipeline.predict(X_test[:, np.newaxis]), label=\"Model\")\n",
        "plt.plot(X_test, true_fun(X_test), label=\"True function\")\n",
        "plt.scatter(X, y, edgecolor='r', s=20, label=\"Samples\")\n",
        "plt.xlabel(\"x\")\n",
        "plt.ylabel(\"y\")\n",
        "plt.xlim((0, 1))\n",
        "plt.ylim((-2, 2))\n",
        "plt.legend(loc=\"best\")\n",
        "plt.title(\"Degree {}\\nMSE = {:.2e}(+/- {:.2e})\".format(\n",
        "    degrees, -scores.mean(), scores.std()))\n",
        "plt.show()"
      ],
      "execution_count": null,
      "outputs": []
    }
  ]
}