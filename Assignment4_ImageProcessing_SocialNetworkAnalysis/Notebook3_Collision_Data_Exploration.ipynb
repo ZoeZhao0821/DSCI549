{
  "nbformat": 4,
  "nbformat_minor": 0,
  "metadata": {
    "colab": {
      "name": "Notebook3_Collision_Data_Exploration.ipynb",
      "provenance": []
    },
    "kernelspec": {
      "name": "python3",
      "display_name": "Python 3"
    }
  },
  "cells": [
    {
      "cell_type": "markdown",
      "metadata": {
        "id": "iNTcBK9zULOI",
        "colab_type": "text"
      },
      "source": [
        "# Collision Data Exploration"
      ]
    },
    {
      "cell_type": "markdown",
      "metadata": {
        "id": "g9oI3OEmWCnW",
        "colab_type": "text"
      },
      "source": [
        "You can download the dataset from https://data.lacity.org/A-Safe-City/Traffic-Collision-Data-from-2010-to-Present/d5tf-ez2w and upload it on Colab."
      ]
    },
    {
      "cell_type": "code",
      "metadata": {
        "id": "0bk76KRQUM2T",
        "colab_type": "code",
        "colab": {}
      },
      "source": [
        "import pandas as pd\n",
        "import numpy as np\n",
        "import seaborn as sns\n",
        "import matplotlib.pyplot as plt\n",
        "import plotly.offline as py\n",
        "py.init_notebook_mode(connected=True)\n",
        "import plotly.graph_objs as go\n",
        "import plotly.tools as tls\n",
        "import datetime\n",
        "df = pd.read_csv(\"Traffic_Collision_Data.csv\")\n",
        "df.head()"
      ],
      "execution_count": null,
      "outputs": []
    },
    {
      "cell_type": "code",
      "metadata": {
        "id": "snCgmi39UQb2",
        "colab_type": "code",
        "colab": {}
      },
      "source": [
        "df.shape"
      ],
      "execution_count": null,
      "outputs": []
    },
    {
      "cell_type": "code",
      "metadata": {
        "id": "dS8Zb_dLUTOJ",
        "colab_type": "code",
        "colab": {}
      },
      "source": [
        "df.info()"
      ],
      "execution_count": null,
      "outputs": []
    },
    {
      "cell_type": "code",
      "metadata": {
        "id": "odo4HPuLUWlo",
        "colab_type": "code",
        "colab": {}
      },
      "source": [
        "df.isnull().sum()"
      ],
      "execution_count": null,
      "outputs": []
    },
    {
      "cell_type": "code",
      "metadata": {
        "id": "vypdX-_lUY_d",
        "colab_type": "code",
        "colab": {}
      },
      "source": [
        "df['Date Reported'] = pd.to_datetime(df['Date Reported']).dt.year \n",
        "df['Date Occurred'] = pd.to_datetime(df['Date Occurred']).dt.year\n",
        "df.head()"
      ],
      "execution_count": null,
      "outputs": []
    },
    {
      "cell_type": "code",
      "metadata": {
        "id": "9peEAJ1rUb1t",
        "colab_type": "code",
        "colab": {}
      },
      "source": [
        "plt.subplots(figsize = (20,5))\n",
        "# We have skiped 2020 because it doesn't have the entire year's data. \n",
        "df1 = df[(df['Date Occurred'].isin(['2010', '2011', '2012', '2013', '2014', '2015', '2016', '2017', '2018', '2019']))]\n",
        "sns.countplot(df1['Date Occurred'])\n",
        "plt.title('Collisions per year') \n",
        "# sns.countplot(df['Date Occurred'])\n",
        "plt.show()"
      ],
      "execution_count": null,
      "outputs": []
    },
    {
      "cell_type": "code",
      "metadata": {
        "id": "RXjN26cAUexO",
        "colab_type": "code",
        "colab": {}
      },
      "source": [
        "df['Premise Description'].value_counts().head(10)"
      ],
      "execution_count": null,
      "outputs": []
    },
    {
      "cell_type": "code",
      "metadata": {
        "id": "Szj5ONv7UhK9",
        "colab_type": "code",
        "colab": {}
      },
      "source": [
        "plt.subplots(figsize = (15,7))\n",
        "sns.countplot(df['Victim Age'].sort_values(ascending = False))\n",
        "plt.title('Collisions by Victim Age') \n",
        "plt.xticks(rotation = 90)\n",
        "plt.show()"
      ],
      "execution_count": null,
      "outputs": []
    },
    {
      "cell_type": "code",
      "metadata": {
        "id": "zVv9nm22UmOt",
        "colab_type": "code",
        "colab": {}
      },
      "source": [
        "import datetime as dt\n",
        "def convert(x):\n",
        "  return dt.datetime.strptime(x, '%H:%M')\n",
        "  \n",
        "def getTime(t):\n",
        "    t = str(t)\n",
        "    if len(t)==1:\n",
        "      return t[0]+':'+'00'\n",
        "    if len(t)<4:\n",
        "      return t[:1] + ':' + t[1:]\n",
        "    else:\n",
        "      return t[:2] + ':' + t[2:]"
      ],
      "execution_count": null,
      "outputs": []
    },
    {
      "cell_type": "code",
      "metadata": {
        "id": "Jf_Y-si9UoeK",
        "colab_type": "code",
        "colab": {}
      },
      "source": [
        "df['Time Occurred']= df['Time Occurred'].apply(getTime)\n",
        "\n",
        "df['Time Occurred']=df['Time Occurred'].apply(convert)"
      ],
      "execution_count": null,
      "outputs": []
    },
    {
      "cell_type": "code",
      "metadata": {
        "id": "LE0vmpAMUq2M",
        "colab_type": "code",
        "colab": {}
      },
      "source": [
        "hours = [t.hour for t in df['Time Occurred'] ]\n",
        "numbers=[x for x in range(0,24)]\n",
        "labels=map(lambda x: str(x), numbers)\n",
        "plt.subplots(figsize = (15,6))\n",
        "sns.countplot(hours)\n"
      ],
      "execution_count": null,
      "outputs": []
    }
  ]
}